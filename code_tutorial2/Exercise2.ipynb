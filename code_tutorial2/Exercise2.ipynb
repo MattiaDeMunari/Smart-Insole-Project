{
 "cells": [
  {
   "cell_type": "markdown",
   "id": "9355e761-8f9e-476d-891a-6678eff3efc3",
   "metadata": {
    "tags": []
   },
   "source": [
    "In this exercise, we will learn:\n",
    "    \n",
    "    1. How to load data\n",
    "    2. How to combine and synchronise data\n",
    "    3. How to find some attributes of the data\n",
    "    4. How to create sliding windows"
   ]
  },
  {
   "cell_type": "code",
   "execution_count": 1,
   "id": "b9d9bc65-32f7-4420-87e0-f12bebc7dbe9",
   "metadata": {
    "tags": []
   },
   "outputs": [
    {
     "name": "stdout",
     "output_type": "stream",
     "text": [
      "                     timestamp     imu_x     imu_y     imu_z\n",
      "0   2025-02-17 22:37:36.248279 -1.103960  0.444364  0.827972\n",
      "1   2025-02-17 22:37:36.268279  0.529332  1.318311 -0.892368\n",
      "2   2025-02-17 22:37:36.288279 -1.088093 -0.143852  1.628061\n",
      "3   2025-02-17 22:37:36.308279 -2.059210 -0.608279  1.245692\n",
      "4   2025-02-17 22:37:36.328279  1.204604  1.849850 -0.967165\n",
      "..                         ...       ...       ...       ...\n",
      "495 2025-02-17 22:37:46.148279  0.923155  0.478154  0.455544\n",
      "496 2025-02-17 22:37:46.168279  0.696304 -0.692716  0.433924\n",
      "497 2025-02-17 22:37:46.188279 -0.842162  0.033667  0.502960\n",
      "498 2025-02-17 22:37:46.208279  0.168948  0.314619 -2.590918\n",
      "499 2025-02-17 22:37:46.228279  0.150978  0.272842 -0.152935\n",
      "\n",
      "[500 rows x 4 columns]\n",
      "                     timestamp   voltage\n",
      "0   2025-02-17 22:37:36.248279  0.366984\n",
      "1   2025-02-17 22:37:36.298279 -1.316928\n",
      "2   2025-02-17 22:37:36.348279 -0.956157\n",
      "3   2025-02-17 22:37:36.398279 -1.270197\n",
      "4   2025-02-17 22:37:36.448279 -0.461933\n",
      "..                         ...       ...\n",
      "195 2025-02-17 22:37:45.998279 -1.419428\n",
      "196 2025-02-17 22:37:46.048279  1.787693\n",
      "197 2025-02-17 22:37:46.098279  0.100555\n",
      "198 2025-02-17 22:37:46.148279  1.961926\n",
      "199 2025-02-17 22:37:46.198279 -0.381695\n",
      "\n",
      "[200 rows x 2 columns]\n"
     ]
    }
   ],
   "source": [
    "import pandas as pd\n",
    "\n",
    "# Load the IMU and Voltage data\n",
    "imu_df = pd.read_csv(\"./data_exercise2/imu_data.csv\", parse_dates=[\"timestamp\"])\n",
    "voltage_df = pd.read_csv(\"./data_exercise2/voltage_data.csv\", parse_dates=[\"timestamp\"])\n",
    "print(imu_df)\n",
    "print(voltage_df)"
   ]
  },
  {
   "cell_type": "code",
   "execution_count": 2,
   "id": "2793033a-43a9-4d88-8981-05958d3ab8cb",
   "metadata": {
    "tags": []
   },
   "outputs": [
    {
     "name": "stdout",
     "output_type": "stream",
     "text": [
      "                     timestamp     imu_x     imu_y     imu_z   voltage\n",
      "0   2025-02-17 22:37:36.248279 -1.103960  0.444364  0.827972  0.366984\n",
      "1   2025-02-17 22:37:36.268279  0.529332  1.318311 -0.892368  0.366984\n",
      "2   2025-02-17 22:37:36.288279 -1.088093 -0.143852  1.628061  0.366984\n",
      "3   2025-02-17 22:37:36.308279 -2.059210 -0.608279  1.245692 -1.316928\n",
      "4   2025-02-17 22:37:36.328279  1.204604  1.849850 -0.967165 -1.316928\n",
      "..                         ...       ...       ...       ...       ...\n",
      "495 2025-02-17 22:37:46.148279  0.923155  0.478154  0.455544  1.961926\n",
      "496 2025-02-17 22:37:46.168279  0.696304 -0.692716  0.433924  1.961926\n",
      "497 2025-02-17 22:37:46.188279 -0.842162  0.033667  0.502960  1.961926\n",
      "498 2025-02-17 22:37:46.208279  0.168948  0.314619 -2.590918 -0.381695\n",
      "499 2025-02-17 22:37:46.228279  0.150978  0.272842 -0.152935 -0.381695\n",
      "\n",
      "[500 rows x 5 columns]\n"
     ]
    }
   ],
   "source": [
    "# Merge data based on the nearest timestamp (interpolation)\n",
    "# https://pandas.pydata.org/docs/reference/api/pandas.merge_asof.html\n",
    "\n",
    "merged_df = pd.merge_asof(imu_df.sort_values(\"timestamp\"), voltage_df.sort_values(\"timestamp\"), on=\"timestamp\")\n",
    "print(merged_df)\n",
    "# Save the merged dataset\n",
    "merged_df.to_csv(\"merged_data.csv\", index=False)"
   ]
  },
  {
   "cell_type": "code",
   "execution_count": 3,
   "id": "57071766-404a-4528-a17f-549b776649e2",
   "metadata": {
    "tags": []
   },
   "outputs": [],
   "source": [
    "# Loading libraries\n",
    "# Numpy is utilized to manipulate data containers\n",
    "import numpy as np "
   ]
  },
  {
   "cell_type": "code",
   "execution_count": 11,
   "id": "efc0dc2c-bab9-46ce-912e-fb8ba460128c",
   "metadata": {},
   "outputs": [
    {
     "name": "stdout",
     "output_type": "stream",
     "text": [
      "array shape: (3, 3)\n",
      "Array:\n",
      " [[1 2 3]\n",
      " [4 5 6]\n",
      " [7 8 9]]\n",
      "[1 2 3]\n",
      "3\n",
      "[1 4 7]\n",
      "[[1 2]\n",
      " [4 5]\n",
      " [7 8]]\n",
      "[7 8 9]\n",
      "[[1 2 3]\n",
      " [4 5 6]]\n",
      "[[1 2 3]\n",
      " [7 8 9]]\n"
     ]
    }
   ],
   "source": [
    "# basics for numpy\n",
    "arr = np.array([[1, 2, 3], [4, 5, 6], [7,8,9]])  # Create a 2D array\n",
    "print(\"array shape:\", arr.shape)\n",
    "print(\"Array:\\n\", arr)\n",
    "print(arr[0,:])   # colon is frequently use in python\n",
    "print(arr[0,2])\n",
    "print(arr[:,0])\n",
    "print(arr[:,:2])  # ':2' means like [0:2) in math, include left index, not include right index,means access [0,1]\n",
    "print(arr[-1,:])  # minus 1, means the last one in python\n",
    "print(arr[:-1,:])\n",
    "print(arr[[0,2],:])"
   ]
  },
  {
   "cell_type": "code",
   "execution_count": 15,
   "id": "93ea1590-208d-4b90-8a8b-2325eb81a9f0",
   "metadata": {},
   "outputs": [
    {
     "name": "stdout",
     "output_type": "stream",
     "text": [
      "\n",
      "Zeros:\n",
      " [[0. 0. 0.]\n",
      " [0. 0. 0.]]\n",
      "\n",
      "Ones:\n",
      " [[1. 1. 1.]\n",
      " [1. 1. 1.]]\n",
      "\n",
      "Random Array:\n",
      " [[0.26656439 0.75799467 0.22352716]\n",
      " [0.42869287 0.73535536 0.26848615]\n",
      " [0.3119297  0.03288169 0.97580765]]\n"
     ]
    }
   ],
   "source": [
    "# 2. Generating Special Arrays\n",
    "zeros = np.zeros((2, 3))  # 2x3 array of zeros\n",
    "ones = np.ones((2, 3))  # 2x3 array of ones\n",
    "rand_arr = np.random.rand(3, 3)  # 3x3 array with random values\n",
    "\n",
    "print(\"\\nZeros:\\n\", zeros)\n",
    "print(\"\\nOnes:\\n\", ones)\n",
    "print(\"\\nRandom Array:\\n\", rand_arr)"
   ]
  },
  {
   "cell_type": "code",
   "execution_count": 7,
   "id": "3e799b67-7cd5-4e6e-a03e-acbce844c31a",
   "metadata": {},
   "outputs": [
    {
     "name": "stdout",
     "output_type": "stream",
     "text": [
      "\n",
      "Element-wise Sum:\n",
      " [[ 8 10 12]\n",
      " [14 16 18]]\n",
      "\n",
      "Element + 1:\n",
      " [[2 3 4]\n",
      " [5 6 7]]\n",
      "\n",
      "Element-wise Product:\n",
      " [[ 7 16 27]\n",
      " [40 55 72]]\n"
     ]
    }
   ],
   "source": [
    "# 3. Array Operations\n",
    "arr = np.array([[1, 2, 3], [4, 5, 6]])\n",
    "arr2 = np.array([[7, 8, 9], [10, 11, 12]])\n",
    "sum_result = arr + arr2  # Element-wise addition\n",
    "sum_1_result = arr + 1\n",
    "product_result = arr * arr2  # Element-wise multiplication\n",
    "# dot_product = np.dot(arr, arr2.T)  # Dot product (matrix multiplication)\n",
    "\n",
    "print(\"\\nElement-wise Sum:\\n\", sum_result)\n",
    "print(\"\\nElement + 1:\\n\", sum_1_result)\n",
    "print(\"\\nElement-wise Product:\\n\", product_result)\n",
    "# print(\"\\nDot Product:\\n\", dot_product)"
   ]
  },
  {
   "cell_type": "code",
   "execution_count": 8,
   "id": "f3954141-92bb-4fe5-8fbe-416cb968f09e",
   "metadata": {},
   "outputs": [
    {
     "name": "stdout",
     "output_type": "stream",
     "text": [
      "[[1 2 3]\n",
      " [4 5 6]]\n",
      "\n",
      "Mean: 3.5\n",
      "Sum: 21\n",
      "standard deviation: 1.707825127659933\n",
      "Max: 6\n",
      "Min: 1\n"
     ]
    }
   ],
   "source": [
    "# 4. Aggregation Functions\n",
    "arr = np.array([[1, 2, 3], [4, 5, 6]])\n",
    "mean_value = np.mean(arr)  # Mean\n",
    "# mean_value = np.mean(arr, axis=0)  # Mean along the columns\n",
    "# mean_value = np.mean(arr, axis=1)  # Mean along the rows\n",
    "sum_value = np.sum(arr)  # Sum\n",
    "standard_deviation_value = np.std(arr)\n",
    "max_value = np.max(arr)  # Max value\n",
    "min_value = np.min(arr)  # Min value\n",
    "\n",
    "print(arr)\n",
    "print(\"\\nMean:\", mean_value)\n",
    "print(\"Sum:\", sum_value)\n",
    "print(\"standard deviation:\", standard_deviation_value)\n",
    "print(\"Max:\", max_value)\n",
    "print(\"Min:\", min_value)"
   ]
  },
  {
   "cell_type": "code",
   "execution_count": 9,
   "id": "73072758-3c51-4432-b374-f2ca397d67ee",
   "metadata": {
    "tags": []
   },
   "outputs": [
    {
     "name": "stdout",
     "output_type": "stream",
     "text": [
      "[[1 2 3]\n",
      " [4 5 6]]\n",
      "\n",
      "Mean: [2.5 3.5 4.5]\n",
      "Sum: [5 7 9]\n",
      "standard deviation: [1.5 1.5 1.5]\n",
      "Max: [4 5 6]\n",
      "Min: [1 2 3]\n"
     ]
    }
   ],
   "source": [
    "arr = np.array([[1, 2, 3], [4, 5, 6]])\n",
    "mean_value = np.mean(arr, axis = 0)  # Mean\n",
    "sum_value = np.sum(arr, axis = 0)  # Sum\n",
    "standard_deviation_value = np.std(arr, axis = 0)\n",
    "max_value = np.max(arr, axis = 0)  # Max value\n",
    "min_value = np.min(arr, axis = 0)  # Min value\n",
    "\n",
    "print(arr)\n",
    "print(\"\\nMean:\", mean_value)\n",
    "print(\"Sum:\", sum_value)\n",
    "print(\"standard deviation:\", standard_deviation_value)\n",
    "print(\"Max:\", max_value)\n",
    "print(\"Min:\", min_value)\n"
   ]
  },
  {
   "cell_type": "code",
   "execution_count": 10,
   "id": "1720a84c-ab19-4f92-b742-7882ab057572",
   "metadata": {
    "tags": []
   },
   "outputs": [
    {
     "name": "stdout",
     "output_type": "stream",
     "text": [
      "[[[1 2 3]\n",
      "  [4 5 6]]\n",
      "\n",
      " [[1 2 3]\n",
      "  [4 5 6]]]\n",
      "(2, 2, 3)\n",
      "\n",
      "Mean: [[2.5 3.5 4.5]\n",
      " [2.5 3.5 4.5]]\n",
      "Sum: [[ 2  4  6]\n",
      " [ 8 10 12]]\n",
      "standard deviation: [[0. 0. 0.]\n",
      " [0. 0. 0.]]\n",
      "Max: [[1 2 3]\n",
      " [4 5 6]]\n",
      "Min: [[1 2 3]\n",
      " [4 5 6]]\n"
     ]
    }
   ],
   "source": [
    "arr = np.array([[[1, 2, 3], [4, 5, 6]], [[1, 2, 3], [4, 5, 6]]])\n",
    "mean_value = np.mean(arr, axis = 1)  # Mean\n",
    "sum_value = np.sum(arr, axis = 0)  # Sum\n",
    "standard_deviation_value = np.std(arr, axis = 0)\n",
    "max_value = np.max(arr, axis = 0)  # Max value\n",
    "min_value = np.min(arr, axis = 0)  # Min value\n",
    "\n",
    "print(arr)\n",
    "print(arr.shape)\n",
    "print(\"\\nMean:\", mean_value)\n",
    "print(\"Sum:\", sum_value)\n",
    "print(\"standard deviation:\", standard_deviation_value)\n",
    "print(\"Max:\", max_value)\n",
    "print(\"Min:\", min_value)"
   ]
  },
  {
   "cell_type": "code",
   "execution_count": 11,
   "id": "9764241f-7700-4ba3-80df-62f53e6ba7b4",
   "metadata": {},
   "outputs": [
    {
     "name": "stdout",
     "output_type": "stream",
     "text": [
      "\n",
      "Boolean Mask:\n",
      " [[False False  True]\n",
      " [ True  True  True]]\n",
      "Filtered Elements: [3 4 5 6]\n"
     ]
    }
   ],
   "source": [
    "# 7. Boolean Masking\n",
    "arr = np.array([[1, 2, 3], [4, 5, 6]])\n",
    "mask = arr > 2  # Boolean mask for elements greater than 2\n",
    "filtered_elements = arr[mask]  # Extract elements using the mask\n",
    "\n",
    "print(\"\\nBoolean Mask:\\n\", mask)\n",
    "print(\"Filtered Elements:\", filtered_elements)"
   ]
  },
  {
   "cell_type": "code",
   "execution_count": 12,
   "id": "bd075fdb-8692-41e2-b511-a6eb429f20e8",
   "metadata": {
    "tags": []
   },
   "outputs": [
    {
     "name": "stdout",
     "output_type": "stream",
     "text": [
      "\n",
      "Stacked Vertically:\n",
      " [[ 1  2  3]\n",
      " [ 4  5  6]\n",
      " [ 7  8  9]\n",
      " [10 11 12]]\n",
      "\n",
      "Stacked Horizontally:\n",
      " [[ 1  2  3  7  8  9]\n",
      " [ 4  5  6 10 11 12]]\n",
      "array concat:\n",
      " [[ 1  2  3]\n",
      " [ 4  5  6]\n",
      " [ 7  8  9]\n",
      " [10 11 12]]\n"
     ]
    }
   ],
   "source": [
    "# 8. Concatenation and Stacking\n",
    "arr = np.array([[1, 2, 3], [4, 5, 6]])\n",
    "arr2 = np.array([[7, 8, 9], [10, 11, 12]])\n",
    "stacked_vertical = np.vstack((arr, arr2))  # Stack vertically\n",
    "stacked_horizontal = np.hstack((arr, arr2))  # Stack horizontally\n",
    "\n",
    "arr_concat = np.concatenate([arr, arr2], axis = 0)\n",
    "\n",
    "print(\"\\nStacked Vertically:\\n\", stacked_vertical)\n",
    "print(\"\\nStacked Horizontally:\\n\", stacked_horizontal)\n",
    "print(\"array concat:\\n\", arr_concat)"
   ]
  },
  {
   "cell_type": "code",
   "execution_count": 13,
   "id": "a73afa13-9e30-40f1-8eae-e54411c1c3f0",
   "metadata": {},
   "outputs": [
    {
     "name": "stdout",
     "output_type": "stream",
     "text": [
      "\n",
      "Linspace:\n",
      " [ 0.   2.5  5.   7.5 10. ]\n",
      "\n",
      "Arange:\n",
      " [0 2 4 6 8]\n"
     ]
    }
   ],
   "source": [
    "# 9. Linspace and Arange\n",
    "linear_space = np.linspace(0, 10, 5)  # 5 evenly spaced numbers between 0 and 10\n",
    "arange_values = np.arange(0, 10, 2)  # Values from 0 to 10 with step 2\n",
    "\n",
    "print(\"\\nLinspace:\\n\", linear_space)\n",
    "print(\"\\nArange:\\n\", arange_values)"
   ]
  },
  {
   "cell_type": "code",
   "execution_count": 15,
   "id": "c4d58272-cdab-408d-9281-675503c9530f",
   "metadata": {
    "tags": []
   },
   "outputs": [
    {
     "name": "stdout",
     "output_type": "stream",
     "text": [
      "<class 'numpy.ndarray'>\n"
     ]
    }
   ],
   "source": [
    "# Loading the data recorded for the class \"walking\"\n",
    "# This loads the data into a NumPy array for further processing or analysis in Python\n",
    "# The data is loaded into a \"matrix\" structure with two dimensions\n",
    "#data = np.loadtxt(\"/notebooks/smartwearable2025/walking.csv\", delimiter=\",\") \n",
    "data = np.loadtxt(\"C:\\\\Users\\\\Mattia\\\\Desktop\\\\Smart Werables\\\\code_tutorial2\\\\walking.csv\", delimiter=\",\")\n",
    "print(type(data))"
   ]
  },
  {
   "cell_type": "code",
   "execution_count": 16,
   "id": "af95042d-7ae0-4b66-a339-2ae610523129",
   "metadata": {
    "tags": []
   },
   "outputs": [
    {
     "name": "stdout",
     "output_type": "stream",
     "text": [
      "Number of samples: 61266\n",
      "Number of sensor channels: 6 corresponding to ACC X, Y, Z and GYRO X, Y, Z\n"
     ]
    }
   ],
   "source": [
    "# Here we access the number of components in the first dimension (number of samples)\n",
    "num_samples = data.shape[0]\n",
    "print(f\"Number of samples: {num_samples}\")\n",
    "\n",
    "# Here we access the number of components in the first dimension (number of sensor channels)\n",
    "num_channels = data.shape[1]\n",
    "print(f\"Number of sensor channels: {num_channels} corresponding to ACC X, Y, Z and GYRO X, Y, Z\")"
   ]
  },
  {
   "cell_type": "code",
   "execution_count": 17,
   "id": "8950e05c-0223-4cf4-84d3-8fc8f7bcfc87",
   "metadata": {
    "tags": []
   },
   "outputs": [
    {
     "name": "stdout",
     "output_type": "stream",
     "text": [
      "     ACC X,       ACC Y,     ACC Z,     GYRO X,     GYRO Y,     GYRO Z\n",
      "[[ 6.3906e-02 -6.5013e-02 -1.1267e-01  4.1905e-03  2.7495e-02 -8.9308e-03]\n",
      " [ 1.5697e-02  7.7307e-04 -1.1857e-01 -3.7507e-03  3.0604e-03 -8.9308e-03]\n",
      " [-1.5182e-03  5.3167e-05 -8.9513e-02 -2.4520e-02 -5.4917e-03  7.5625e-03]\n",
      " ...\n",
      " [-2.9038e+00  1.7022e+00 -5.0675e-01 -7.1477e-01 -3.5953e-03 -3.5306e-01]\n",
      " [ 7.2340e-01 -1.1946e+00  2.9736e-01 -6.5512e-01 -7.7911e-01 -4.1485e-01]\n",
      " [ 3.6843e+00 -2.3661e+00  1.7814e-01 -2.0558e-01 -2.2197e-01 -2.1458e+00]]\n"
     ]
    }
   ],
   "source": [
    "# Let's have a look at the data\n",
    "print(\"     ACC X,       ACC Y,     ACC Z,     GYRO X,     GYRO Y,     GYRO Z\")\n",
    "print(data)"
   ]
  },
  {
   "cell_type": "code",
   "execution_count": 18,
   "id": "373f9a53-aa4e-49f3-8f77-5071ee470612",
   "metadata": {
    "tags": []
   },
   "outputs": [
    {
     "data": {
      "text/plain": [
       "array([[ 6.3906e-02, -1.1267e-01],\n",
       "       [ 1.5697e-02, -1.1857e-01],\n",
       "       [-1.5182e-03, -8.9513e-02],\n",
       "       ...,\n",
       "       [-2.9038e+00, -5.0675e-01],\n",
       "       [ 7.2340e-01,  2.9736e-01],\n",
       "       [ 3.6843e+00,  1.7814e-01]], shape=(61266, 2))"
      ]
     },
     "execution_count": 18,
     "metadata": {},
     "output_type": "execute_result"
    }
   ],
   "source": [
    "data[:, [0, 2]]"
   ]
  },
  {
   "cell_type": "code",
   "execution_count": 19,
   "id": "c51ccef5-f724-4099-8730-81b642a2d330",
   "metadata": {
    "tags": []
   },
   "outputs": [],
   "source": [
    "# Segmenting the data into sliding windows with overlap\n",
    "window_length     = 50\n",
    "window_step_size  = 25"
   ]
  },
  {
   "cell_type": "code",
   "execution_count": 20,
   "id": "b9ea11bf-57d7-41c8-8f84-2083bcb53903",
   "metadata": {
    "tags": []
   },
   "outputs": [
    {
     "name": "stdout",
     "output_type": "stream",
     "text": [
      "Number of sliding windows: 2449\n"
     ]
    }
   ],
   "source": [
    "# Calculating the number of windows\n",
    "# Note that double slash// is the \"floor division\" operator. It is used for division where \n",
    "# the result is rounded down to the nearest whole number (integer)\n",
    "num_windows = (num_samples - window_length) // window_step_size + 1\n",
    "print(f'Number of sliding windows: {num_windows}')"
   ]
  },
  {
   "cell_type": "code",
   "execution_count": 21,
   "id": "4c1043d5-0f8a-4acc-8a08-aa6d5144b898",
   "metadata": {
    "tags": []
   },
   "outputs": [
    {
     "name": "stdout",
     "output_type": "stream",
     "text": [
      "(2449, 50, 6)\n",
      "(61266, 6)\n"
     ]
    }
   ],
   "source": [
    "# Creating a 3D container (named tensor) to store the sliding windows\n",
    "sliding_windows = np.zeros((num_windows, window_length, num_channels))\n",
    "print(sliding_windows.shape)\n",
    "print(data.shape)\n",
    "# 2449*25 = 61225\n",
    "for i in range(0, num_windows):\n",
    "    sliding_windows[i,:,:] = data[i*window_step_size: i*window_step_size + window_length,:]\n",
    "\n",
    "\n",
    "# First window\n",
    "# data[0:50]\n",
    "# Second window\n",
    "# data[25:25 + 50] = data[25:75]\n",
    "# Third window: data[50:100]"
   ]
  },
  {
   "cell_type": "code",
   "execution_count": 22,
   "id": "75504345-1080-49f3-b549-128c2080f275",
   "metadata": {
    "tags": []
   },
   "outputs": [
    {
     "name": "stdout",
     "output_type": "stream",
     "text": [
      "     ACC X,       ACC Y,     ACC Z,     GYRO X,     GYRO Y,     GYRO Z\n",
      "Second sliding window\n",
      "[[ 7.0954e+00  4.0756e+00  2.5848e+00  5.3687e-01  2.3641e-01 -3.1497e-01]\n",
      " [-5.8843e-01 -1.1124e+00 -1.0316e+00  3.2123e-01 -7.3425e-01 -1.7264e-01]\n",
      " [-2.4835e+00 -3.0426e+00  3.3747e+00 -2.3954e-01 -2.0036e-01  4.8587e-01]\n",
      " [-3.1539e-01 -2.3174e+00  3.6266e+00 -6.0484e-01  1.4295e-01  3.8935e-01]\n",
      " [ 3.5078e+00  5.2209e-01  2.4613e+00 -6.6059e-02  3.4270e-01  1.0408e-01]\n",
      " [ 2.7247e+00  7.1450e-01  9.7705e-02  8.9101e-02 -5.1434e-01  4.5227e-01]\n",
      " [-8.4079e-02 -4.8730e-01  1.6587e+00  9.8875e-02 -4.4715e-01  3.2033e-01]\n",
      " [-2.3616e+00 -1.4169e+00  1.6972e+00 -5.8729e-02 -1.9303e-01  3.0444e-01]\n",
      " [-3.3413e+00  5.1658e-01  2.0486e+00 -5.8729e-02  1.8815e-01  2.7818e-01]\n",
      " [-2.7373e+00  1.9631e+00  1.3717e+00  1.2820e-01  2.0587e-01 -1.0423e-01]\n",
      " [-1.3753e+00  5.5891e-01  5.6347e-01  5.3076e-01  1.8388e-01 -3.4002e-01]\n",
      " [ 8.4465e-01 -5.7681e-01 -1.9308e+00  5.3503e-01 -2.1135e-01 -4.2432e-01]\n",
      " [-1.3022e+00 -3.9877e-02 -6.8873e-01  5.1548e-01 -3.6040e-01 -5.1656e-01]\n",
      " [-2.3232e+00 -1.9009e+00  2.1914e-01  2.6625e-01  2.5352e-01 -3.8278e-01]\n",
      " [ 7.1730e-01 -2.6116e+00 -1.7884e+00  2.4487e-01  4.8320e-01 -2.5633e-01]\n",
      " [ 2.0347e+00 -8.5544e-01 -3.8010e+00  2.3998e-01  4.3378e-02 -2.1296e-01]\n",
      " [ 2.0094e+00 -2.5934e+00 -2.0930e+00  1.6240e-01 -5.5583e-02 -1.1889e-01]\n",
      " [ 2.2891e+00 -4.0243e+00 -1.1022e-01 -4.9366e-01  3.5858e-01  2.2137e-01]\n",
      " [ 3.8883e+00  1.7377e+00  3.1909e+00 -3.3423e-01 -6.9821e-01  1.7860e-01]\n",
      " [ 4.3750e-01  3.3545e+00  4.9114e+00 -5.3231e-02  1.8387e-03 -1.6261e-02]\n",
      " [ 1.6867e+00  1.9616e+00 -2.9032e-01  3.4123e-02 -4.3365e-02 -1.3207e-02]\n",
      " [ 3.6799e+00  7.0939e-01  5.1591e-01 -1.7846e-01 -3.4819e-01 -1.5187e-01]\n",
      " [-6.7265e-01  3.5447e-01  1.0487e+00 -1.9068e-01 -4.8441e-01 -9.5674e-02]\n",
      " [-3.0602e+00  1.4090e+00  6.1317e-01 -2.5482e-01 -4.9785e-01 -1.7448e-01]\n",
      " [-5.0745e+00  1.1532e+00  1.8454e+00 -2.2061e-01 -1.4843e-01 -1.8669e-01]\n",
      " [-5.5450e+00  1.1214e+00  9.7021e-01 -1.9617e-01  3.9218e-01 -1.2596e-02]\n",
      " [-4.1054e+00  5.3919e-01 -9.3685e-01 -3.3912e-01  4.0134e-01  1.8532e-01]\n",
      " [-2.3732e+00 -1.5161e-01 -1.3291e+00 -4.7778e-01  5.5589e-01  2.0365e-01]\n",
      " [-2.7282e-02 -3.3953e-01 -1.5991e+00 -3.8004e-01  5.2046e-01  4.0340e-01]\n",
      " [ 4.0094e+00  6.2932e-01 -3.0636e+00 -3.6905e-01  3.3659e-01  3.4659e-01]\n",
      " [ 3.2427e+00  1.7812e+00 -4.9876e+00 -3.7027e-01 -4.0311e-02 -1.0178e-01]\n",
      " [ 2.9785e+00  5.4544e-01 -2.0631e-01  9.8264e-02 -3.0665e-01  1.0102e-01]\n",
      " [ 6.1963e+00  2.7491e+00  1.5720e+00  7.2135e-01  2.8406e-01 -4.0721e-01]\n",
      " [-1.3308e+00 -8.8616e-01  1.6744e+00 -1.6807e-01 -1.0293e+00 -3.8252e-02]\n",
      " [-2.0604e+00 -5.1241e+00  7.8895e+00 -2.5726e-01  6.5302e-01  4.8037e-01]\n",
      " [ 4.3671e+00  2.4500e-01 -6.0583e-01  1.1048e-01  5.2718e-01  3.4904e-01]\n",
      " [ 3.6486e+00  2.5255e+00 -1.7212e-01  2.0517e-01 -3.9889e-01  3.2460e-01]\n",
      " [-2.4919e+00 -5.8070e-01  8.6553e-01  3.4933e-01 -6.5606e-01  4.7610e-01]\n",
      " [-5.0635e+00 -1.0140e+00  2.0185e+00  1.2636e-01 -2.3579e-01  4.1684e-01]\n",
      " [-4.8820e+00  3.1247e-01  1.7590e+00 -1.4746e-02  4.3922e-01  9.3951e-03]\n",
      " [-3.3806e+00  7.1324e-01  2.4055e-02  7.7494e-02  4.9603e-01 -3.3819e-01]\n",
      " [-1.8705e+00  5.1297e-01 -6.8907e-01  4.2874e-01  8.9803e-02 -3.6507e-01]\n",
      " [ 7.3238e-01  1.0098e+00 -1.7841e+00  5.7474e-01  7.6975e-02 -6.3385e-01]\n",
      " [ 1.4374e+00 -2.0612e+00 -2.3862e+00  2.4121e-01 -1.2766e-01 -3.9683e-01]\n",
      " [ 9.6984e-01 -3.7481e+00 -3.2155e+00  2.5571e-02 -3.5424e-02  1.4073e-01]\n",
      " [ 1.2094e+00 -7.4759e-02 -3.2925e+00  3.9621e-02 -4.6242e-01 -1.4576e-01]\n",
      " [ 2.6636e+00 -5.5654e-01  5.2320e+00  1.0315e-01  4.9542e-01  3.0505e-01]\n",
      " [ 5.6373e+00  2.3249e+00  1.5317e+00 -5.2009e-02 -8.6987e-01  3.3219e-02]\n",
      " [ 2.4247e+00  1.4644e+00  4.1203e+00 -4.6511e-02 -9.0402e-02 -9.0787e-02]\n",
      " [ 4.1331e+00  1.7624e+00 -5.4400e-01  8.5436e-02 -8.2461e-02 -1.4515e-01]]\n"
     ]
    }
   ],
   "source": [
    "# Let's have a look at the first sliding window\n",
    "print(\"     ACC X,       ACC Y,     ACC Z,     GYRO X,     GYRO Y,     GYRO Z\")\n",
    "print(\"Second sliding window\")\n",
    "print(sliding_windows[1,:,:])"
   ]
  }
 ],
 "metadata": {
  "kernelspec": {
   "display_name": "base",
   "language": "python",
   "name": "python3"
  },
  "language_info": {
   "codemirror_mode": {
    "name": "ipython",
    "version": 3
   },
   "file_extension": ".py",
   "mimetype": "text/x-python",
   "name": "python",
   "nbconvert_exporter": "python",
   "pygments_lexer": "ipython3",
   "version": "3.12.3"
  }
 },
 "nbformat": 4,
 "nbformat_minor": 5
}
