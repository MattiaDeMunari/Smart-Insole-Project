{
 "cells": [
  {
   "cell_type": "markdown",
   "id": "9355e761-8f9e-476d-891a-6678eff3efc3",
   "metadata": {
    "tags": []
   },
   "source": [
    "In this exercise, we will learn:\n",
    "    \n",
    "    1. How to load data\n",
    "    2. How to find some attributes of the data\n",
    "    3. How to create sliding windows"
   ]
  },
  {
   "cell_type": "code",
   "execution_count": 2,
   "id": "7fc535972ebcb20f",
   "metadata": {
    "ExecuteTime": {
     "end_time": "2025-02-20T21:06:19.869525Z",
     "start_time": "2025-02-20T21:06:19.332004Z"
    }
   },
   "outputs": [
    {
     "name": "stdout",
     "output_type": "stream",
     "text": [
      "Package                   Version\n",
      "------------------------- ---------\n",
      "anaconda-anon-usage       0.4.4\n",
      "anaconda-client           1.12.3\n",
      "anaconda-cloud-auth       0.5.1\n",
      "anaconda-navigator        2.6.0\n",
      "annotated-types           0.6.0\n",
      "archspec                  0.2.3\n",
      "asttokens                 3.0.0\n",
      "attrs                     23.1.0\n",
      "bleach                    6.1.0\n",
      "boltons                   23.0.0\n",
      "Brotli                    1.0.9\n",
      "certifi                   2025.1.31\n",
      "cffi                      1.16.0\n",
      "chardet                   4.0.0\n",
      "charset-normalizer        2.0.4\n",
      "click                     8.1.7\n",
      "colorama                  0.4.6\n",
      "comm                      0.2.2\n",
      "conda                     25.1.1\n",
      "conda-content-trust       0.2.0\n",
      "conda-libmamba-solver     24.1.0\n",
      "conda-package-handling    2.2.0\n",
      "conda_package_streaming   0.9.0\n",
      "conda-repo-cli            1.0.88\n",
      "conda-token               0.4.0\n",
      "contourpy                 1.3.1\n",
      "cryptography              42.0.5\n",
      "cycler                    0.12.1\n",
      "debugpy                   1.8.13\n",
      "decorator                 5.2.1\n",
      "defusedxml                0.7.1\n",
      "distro                    1.9.0\n",
      "exceptiongroup            1.2.2\n",
      "executing                 2.1.0\n",
      "fastjsonschema            2.16.2\n",
      "fonttools                 4.56.0\n",
      "frozendict                2.4.6\n",
      "idna                      3.7\n",
      "importlib_metadata        8.6.1\n",
      "ipykernel                 6.29.5\n",
      "ipython                   8.21.0\n",
      "jaraco.classes            3.2.1\n",
      "jedi                      0.19.2\n",
      "joblib                    1.4.2\n",
      "jsonpatch                 1.33\n",
      "jsonpointer               2.1\n",
      "jsonschema                4.19.2\n",
      "jsonschema-specifications 2023.7.1\n",
      "jupyter_client            8.6.3\n",
      "jupyter_core              5.5.0\n",
      "kaggle                    1.6.12\n",
      "keyring                   24.3.1\n",
      "kiwisolver                1.4.8\n",
      "libmambapy                1.5.8\n",
      "matplotlib                3.10.0\n",
      "matplotlib-inline         0.1.7\n",
      "menuinst                  2.0.2\n",
      "more-itertools            10.1.0\n",
      "navigator-updater         0.5.0\n",
      "nbformat                  5.9.2\n",
      "nest_asyncio              1.6.0\n",
      "numpy                     2.2.2\n",
      "packaging                 23.2\n",
      "pandas                    2.2.3\n",
      "parso                     0.8.4\n",
      "pickleshare               0.7.5\n",
      "pillow                    10.3.0\n",
      "pip                       24.0\n",
      "pkce                      1.0.3\n",
      "platformdirs              3.10.0\n",
      "pluggy                    1.0.0\n",
      "ply                       3.11\n",
      "prompt_toolkit            3.0.50\n",
      "psutil                    5.9.0\n",
      "pure_eval                 0.2.3\n",
      "pycosat                   0.6.6\n",
      "pycparser                 2.21\n",
      "pydantic                  2.5.3\n",
      "pydantic_core             2.14.6\n",
      "Pygments                  2.19.1\n",
      "PyJWT                     2.8.0\n",
      "pyparsing                 3.2.1\n",
      "PyQt5                     5.15.10\n",
      "PyQt5-sip                 12.13.0\n",
      "PyQtWebEngine             5.15.6\n",
      "pyserial                  3.5\n",
      "PySocks                   1.7.1\n",
      "python-dateutil           2.8.2\n",
      "python-dotenv             0.21.0\n",
      "python-slugify            8.0.4\n",
      "pytz                      2024.1\n",
      "pywin32                   305.1\n",
      "pywin32-ctypes            0.2.2\n",
      "PyYAML                    6.0.1\n",
      "pyzmq                     26.2.0\n",
      "QtPy                      2.4.1\n",
      "referencing               0.30.2\n",
      "requests                  2.31.0\n",
      "requests-toolbelt         1.0.0\n",
      "rpds-py                   0.10.6\n",
      "ruamel.yaml               0.17.21\n",
      "scikit-learn              1.6.1\n",
      "scipy                     1.15.2\n",
      "semver                    3.0.2\n",
      "setuptools                69.5.1\n",
      "sip                       6.7.12\n",
      "six                       1.16.0\n",
      "stack_data                0.6.3\n",
      "text-unidecode            1.3\n",
      "threadpoolctl             3.5.0\n",
      "tornado                   6.4.2\n",
      "tqdm                      4.66.2\n",
      "traitlets                 5.7.1\n",
      "truststore                0.8.0\n",
      "typing_extensions         4.11.0\n",
      "tzdata                    2025.1\n",
      "ujson                     5.4.0\n",
      "urllib3                   2.1.0\n",
      "wcwidth                   0.2.13\n",
      "webencodings              0.5.1\n",
      "wheel                     0.43.0\n",
      "win-inet-pton             1.1.0\n",
      "zipp                      3.21.0\n",
      "zstandard                 0.22.0\n",
      "Note: you may need to restart the kernel to use updated packages.\n"
     ]
    }
   ],
   "source": [
    "pip list"
   ]
  },
  {
   "cell_type": "code",
   "execution_count": 20,
   "id": "c8c94253-b77b-4068-a743-c3ce6671d0f0",
   "metadata": {
    "ExecuteTime": {
     "end_time": "2025-02-20T21:05:46.629928Z",
     "start_time": "2025-02-20T21:05:46.625524Z"
    },
    "tags": []
   },
   "outputs": [
    {
     "name": "stdout",
     "output_type": "stream",
     "text": [
      "x: 10, y: 3.14, name: Mattia De Munari, is_active: True\n",
      "Fruits: ['apple', 'banana', 'cherry'], Person: {'name': 'Yao', 'age': 25}, Numbers: (1, 2, 3), Unique Values: {1, 2, 3}\n"
     ]
    }
   ],
   "source": [
    "# 1. Variables and Data Types\n",
    "x = 10  # Integer\n",
    "y = 3.14  # Float\n",
    "name = \"Mattia De Munari\"  # String\n",
    "is_active = True  # Boolean\n",
    "fruits = [\"apple\", \"banana\", \"cherry\"]  # List\n",
    "person = {\"name\": \"Yao\", \"age\": 25}  # Dictionary\n",
    "numbers = (1, 2, 3)  # Tuple\n",
    "unique_values = {1, 2, 3, 3}  # Set\n",
    "\n",
    "print(f\"x: {x}, y: {y}, name: {name}, is_active: {is_active}\")\n",
    "print(f\"Fruits: {fruits}, Person: {person}, Numbers: {numbers}, Unique Values: {unique_values}\")"
   ]
  },
  {
   "cell_type": "code",
   "execution_count": 14,
   "id": "bc4f28b4-7d68-40f2-9dd5-6e6b2a2754be",
   "metadata": {
    "ExecuteTime": {
     "end_time": "2025-02-20T21:05:48.370433Z",
     "start_time": "2025-02-20T21:05:48.366988Z"
    },
    "tags": []
   },
   "outputs": [
    {
     "name": "stdout",
     "output_type": "stream",
     "text": [
      "x is greater than 5\n"
     ]
    }
   ],
   "source": [
    "# 2. Conditional Statements\n",
    "if x > 5:\n",
    "    print(\"x is greater than 5\")\n",
    "elif x == 5:\n",
    "    print(\"x is 5\")\n",
    "else:\n",
    "    print(\"x is less than 5\")"
   ]
  },
  {
   "cell_type": "code",
   "execution_count": 15,
   "id": "5914a995-c6c8-4db6-9014-96168d28ea68",
   "metadata": {
    "ExecuteTime": {
     "end_time": "2025-02-20T21:05:49.536917Z",
     "start_time": "2025-02-20T21:05:49.532917Z"
    },
    "tags": []
   },
   "outputs": [
    {
     "name": "stdout",
     "output_type": "stream",
     "text": [
      "5<x<10\n"
     ]
    }
   ],
   "source": [
    "x = 7\n",
    "\n",
    "if x > 5 and x < 10:\n",
    "    print(\"5<x<10\")\n",
    "else:\n",
    "    print(\"x<=5 or x>=10\")\n",
    "\n"
   ]
  },
  {
   "cell_type": "code",
   "execution_count": 16,
   "id": "017391bf-dbee-411f-9d7b-d9a28ace8e18",
   "metadata": {
    "ExecuteTime": {
     "end_time": "2025-02-20T21:05:50.828393Z",
     "start_time": "2025-02-20T21:05:50.824944Z"
    },
    "tags": []
   },
   "outputs": [
    {
     "name": "stdout",
     "output_type": "stream",
     "text": [
      "5<x<10\n"
     ]
    }
   ],
   "source": [
    "x = 7\n",
    "\n",
    "if x >= 10 or x <= 5:\n",
    "    print(\"x<=5 or x>=10\")\n",
    "else:\n",
    "    print(\"5<x<10\")"
   ]
  },
  {
   "cell_type": "code",
   "execution_count": 17,
   "id": "8b0f337f-2520-4bd2-b6de-a4013f70bb54",
   "metadata": {
    "ExecuteTime": {
     "end_time": "2025-02-20T21:05:52.133726Z",
     "start_time": "2025-02-20T21:05:52.129361Z"
    },
    "tags": []
   },
   "outputs": [
    {
     "name": "stdout",
     "output_type": "stream",
     "text": [
      "For Loop:\n",
      "apple\n",
      "banana\n",
      "cherry\n",
      "While Loop:\n",
      "Counter: 0\n",
      "Counter: 1\n",
      "Counter: 2\n"
     ]
    }
   ],
   "source": [
    "print(\"For Loop:\")\n",
    "for fruit in fruits:\n",
    "    print(fruit)\n",
    "\n",
    "print(\"While Loop:\")\n",
    "counter = 0\n",
    "while counter < 3:\n",
    "    print(f\"Counter: {counter}\")\n",
    "    counter += 1"
   ]
  },
  {
   "cell_type": "code",
   "execution_count": 19,
   "id": "ed9de259-ddb7-40ef-a2df-be299801457b",
   "metadata": {
    "ExecuteTime": {
     "end_time": "2025-02-20T21:05:53.344408Z",
     "start_time": "2025-02-20T21:05:53.340405Z"
    },
    "tags": []
   },
   "outputs": [
    {
     "name": "stdout",
     "output_type": "stream",
     "text": [
      "Hello, Mattia!\n"
     ]
    }
   ],
   "source": [
    "def greet(name):\n",
    "    return f\"Hello, {name}!\"\n",
    "\n",
    "print(greet(\"Mattia\"))"
   ]
  },
  {
   "cell_type": "code",
   "execution_count": 24,
   "id": "3d0323b1-ba54-4994-8272-050e70fb6824",
   "metadata": {
    "ExecuteTime": {
     "end_time": "2025-02-20T21:05:54.259415Z",
     "start_time": "2025-02-20T21:05:54.255313Z"
    },
    "tags": []
   },
   "outputs": [
    {
     "name": "stdout",
     "output_type": "stream",
     "text": [
      "2\n",
      "3\n",
      "4\n",
      "5\n",
      "6\n",
      "Error: unsupport value type error not allowed.\n",
      "This always executes.\n"
     ]
    }
   ],
   "source": [
    "try:\n",
    "    results = [1,2,3,4,5,'fruit',6,7]  # A list contain int and string\n",
    "    for result in results:\n",
    "        print(result+1)\n",
    "except TypeError:\n",
    "    print(\"Error: unsupport value type error not allowed.\")\n",
    "finally:\n",
    "    print(\"This always executes.\")"
   ]
  },
  {
   "cell_type": "code",
   "execution_count": 25,
   "id": "5aea9427-5b29-4e3c-b9a3-3990946829fb",
   "metadata": {
    "ExecuteTime": {
     "end_time": "2025-02-20T21:05:55.518699Z",
     "start_time": "2025-02-20T21:05:55.515397Z"
    },
    "tags": []
   },
   "outputs": [
    {
     "name": "stdout",
     "output_type": "stream",
     "text": [
      "1\n",
      "2\n",
      "3\n",
      "4\n",
      "5\n",
      "Error converting fruit to int\n",
      "6\n",
      "7\n"
     ]
    }
   ],
   "source": [
    "\n",
    "results = [1,2,3,4,5,'fruit',6,7]\n",
    " \n",
    "for result in results:\n",
    "    try:\n",
    "        result = int(result)\n",
    "        print(result)\n",
    "    except ValueError:\n",
    "        print(f\"Error converting {result} to int\")\n",
    "    except Exception as e:\n",
    "        print(f\"An error occurred: {e}\")"
   ]
  },
  {
   "cell_type": "code",
   "execution_count": 29,
   "id": "f9f0bb38-342f-4062-9a6b-88b5cf6b7b50",
   "metadata": {
    "ExecuteTime": {
     "end_time": "2025-02-20T21:05:57.144523Z",
     "start_time": "2025-02-20T21:05:57.141635Z"
    },
    "tags": []
   },
   "outputs": [
    {
     "name": "stdout",
     "output_type": "stream",
     "text": [
      "Square root of 16: 4.0\n"
     ]
    }
   ],
   "source": [
    "import math\n",
    "print(\"Square root of 16:\", math.sqrt(16))"
   ]
  },
  {
   "cell_type": "code",
   "execution_count": 30,
   "id": "65655aa6-8283-46ba-b7bd-7f7ba59b596f",
   "metadata": {
    "ExecuteTime": {
     "end_time": "2025-02-20T21:05:58.164290Z",
     "start_time": "2025-02-20T21:05:58.159290Z"
    },
    "tags": []
   },
   "outputs": [
    {
     "name": "stdout",
     "output_type": "stream",
     "text": [
      "Hello! Welcome to demofile.txt\n",
      "This file is for testing purposes.\n",
      "Good Luck!\n"
     ]
    }
   ],
   "source": [
    "f = open(\"./txt_exercise1/demofile.txt\", \"r\")\n",
    "print(f.read())\n",
    "\n",
    "f = open(\"./txt_exercise1/demofile2.txt\", \"w\")\n",
    "f.write(\"Now the file has more content!\")\n",
    "f.close()"
   ]
  },
  {
   "cell_type": "code",
   "execution_count": 31,
   "id": "2c87610c-20ba-4925-a1ba-23fbdfb2e767",
   "metadata": {
    "ExecuteTime": {
     "end_time": "2025-02-20T21:05:59.322681Z",
     "start_time": "2025-02-20T21:05:59.319459Z"
    },
    "tags": []
   },
   "outputs": [],
   "source": [
    "f = open(\"./txt_exercise1/demofile2.txt\", \"a\")\n",
    "f.write(\"Now the file has more content!\\n\")\n",
    "f.close()"
   ]
  },
  {
   "cell_type": "code",
   "execution_count": 32,
   "id": "57071766-404a-4528-a17f-549b776649e2",
   "metadata": {
    "ExecuteTime": {
     "end_time": "2025-02-20T21:06:00.407467Z",
     "start_time": "2025-02-20T21:06:00.404099Z"
    },
    "tags": []
   },
   "outputs": [],
   "source": [
    "# Loading libraries\n",
    "# Numpy is utilized to manipulate data containers\n",
    "import numpy as np "
   ]
  },
  {
   "cell_type": "code",
   "execution_count": 33,
   "id": "c4d58272-cdab-408d-9281-675503c9530f",
   "metadata": {
    "ExecuteTime": {
     "end_time": "2025-02-20T21:06:12.163704Z",
     "start_time": "2025-02-20T21:06:12.050902Z"
    },
    "tags": []
   },
   "outputs": [],
   "source": [
    "# Loading the data recorded for the class \"walking\"\n",
    "# This loads the data into a NumPy array for further processing or analysis in Python\n",
    "# The data is loaded into a \"matrix\" structure with two dimensions\n",
    "data = np.loadtxt(\"./walking.csv\", delimiter=\",\")"
   ]
  },
  {
   "cell_type": "code",
   "execution_count": 38,
   "id": "af95042d-7ae0-4b66-a339-2ae610523129",
   "metadata": {
    "ExecuteTime": {
     "end_time": "2025-02-20T21:06:13.600029Z",
     "start_time": "2025-02-20T21:06:13.596134Z"
    },
    "tags": []
   },
   "outputs": [
    {
     "name": "stdout",
     "output_type": "stream",
     "text": [
      "Number of samples: 61266\n",
      "Number of sensor channels: 6 corresponding to ACC X, Y, Z and GYRO X, Y, Z\n"
     ]
    }
   ],
   "source": [
    "# Here we access the number of components in the first dimension (number of samples)\n",
    "num_samples = data.shape[0]\n",
    "print(f\"Number of samples: {num_samples}\")\n",
    "\n",
    "# Here we access the number of components in the first dimension (number of sensor channels)\n",
    "num_channels = data.shape[1]\n",
    "print(f\"Number of sensor channels: {num_channels} corresponding to ACC X, Y, Z and GYRO X, Y, Z\")"
   ]
  },
  {
   "cell_type": "code",
   "execution_count": 39,
   "id": "8950e05c-0223-4cf4-84d3-8fc8f7bcfc87",
   "metadata": {
    "ExecuteTime": {
     "end_time": "2025-02-20T21:06:14.983465Z",
     "start_time": "2025-02-20T21:06:14.979466Z"
    },
    "tags": []
   },
   "outputs": [
    {
     "name": "stdout",
     "output_type": "stream",
     "text": [
      "     ACC X,       ACC Y,     ACC Z,     GYRO X,     GYRO Y,     GYRO Z\n",
      "[[ 6.3906e-02 -6.5013e-02 -1.1267e-01  4.1905e-03  2.7495e-02 -8.9308e-03]\n",
      " [ 1.5697e-02  7.7307e-04 -1.1857e-01 -3.7507e-03  3.0604e-03 -8.9308e-03]\n",
      " [-1.5182e-03  5.3167e-05 -8.9513e-02 -2.4520e-02 -5.4917e-03  7.5625e-03]\n",
      " ...\n",
      " [-2.9038e+00  1.7022e+00 -5.0675e-01 -7.1477e-01 -3.5953e-03 -3.5306e-01]\n",
      " [ 7.2340e-01 -1.1946e+00  2.9736e-01 -6.5512e-01 -7.7911e-01 -4.1485e-01]\n",
      " [ 3.6843e+00 -2.3661e+00  1.7814e-01 -2.0558e-01 -2.2197e-01 -2.1458e+00]]\n"
     ]
    }
   ],
   "source": [
    "# Let's have a look at the data\n",
    "print(\"     ACC X,       ACC Y,     ACC Z,     GYRO X,     GYRO Y,     GYRO Z\")\n",
    "print(data)"
   ]
  }
 ],
 "metadata": {
  "kernelspec": {
   "display_name": "base",
   "language": "python",
   "name": "python3"
  },
  "language_info": {
   "codemirror_mode": {
    "name": "ipython",
    "version": 3
   },
   "file_extension": ".py",
   "mimetype": "text/x-python",
   "name": "python",
   "nbconvert_exporter": "python",
   "pygments_lexer": "ipython3",
   "version": "3.12.3"
  }
 },
 "nbformat": 4,
 "nbformat_minor": 5
}
